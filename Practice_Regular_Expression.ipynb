{
 "cells": [
  {
   "cell_type": "code",
   "execution_count": 23,
   "id": "860b9265",
   "metadata": {},
   "outputs": [],
   "source": [
    "import re"
   ]
  },
  {
   "cell_type": "code",
   "execution_count": 24,
   "id": "e2f2d685",
   "metadata": {},
   "outputs": [],
   "source": [
    "text=\"abababab aaaa bbbbb ababab beeee!  beeeeeeeeeeee! beee eeeeb cat dog cat dog  gogy goes  gogy goes +923425790214 This is my by toy cy a^b hy shemail ymail email emaal emael address 03425790214 1jawadalihunzai2068@gmail.com.03487464332 A^B .He likes to play football. I like to play tabletennis . My hotmail 2accounts email 03551111986 6is jvdiram619@hotmail.commorce 03143870998\""
   ]
  },
  {
   "cell_type": "code",
   "execution_count": 25,
   "id": "7b58582f",
   "metadata": {},
   "outputs": [
    {
     "data": {
      "text/plain": [
       "\" Pipline it is used as disjunction operator for saying either 'cat | dog ' pattern may either find cat or dog. \""
      ]
     },
     "execution_count": 25,
     "metadata": {},
     "output_type": "execute_result"
    }
   ],
   "source": [
    "#pattern=\"[0][3][45][0-9]{8}\"\n",
    "\n",
    "\"   ^ is used to show except option  \"\n",
    "\"\\ we use forward slash to do specifically use '\\'\"\n",
    "\"  the preceding character or nothing\"\n",
    "\" email,emael,emaal,emakl ema.l '.' k jagay may kuch b askta hai. \"\n",
    "\" Pipline it is used as disjunction operator for saying either 'cat | dog ' pattern may either find cat or dog. \"\n"
   ]
  },
  {
   "cell_type": "code",
   "execution_count": 32,
   "id": "67cf3b22",
   "metadata": {},
   "outputs": [],
   "source": [
    "# pattern=\"[^Mm]y\"\n",
    "# pattern=\"[\\a^b]\"\n",
    "#pattern=\"likes?\"\n",
    "# pattern=\"be*\"\n",
    "\n",
    "\n",
    "#pattern=\"[ab]*\"\n",
    "\n",
    "#pattern=\"ema.l\"\n",
    "\n",
    "# pattern=\"cat|dog|ema.l\"\n",
    "pattern=\"go(gy|es)\""
   ]
  },
  {
   "cell_type": "code",
   "execution_count": 33,
   "id": "b267dfe9",
   "metadata": {},
   "outputs": [],
   "source": [
    "emails = re.findall(pattern, text)"
   ]
  },
  {
   "cell_type": "code",
   "execution_count": 35,
   "id": "dc035487",
   "metadata": {},
   "outputs": [
    {
     "name": "stdout",
     "output_type": "stream",
     "text": [
      "<class 'list'>\n"
     ]
    }
   ],
   "source": [
    "print(type(emails))"
   ]
  },
  {
   "cell_type": "code",
   "execution_count": 39,
   "id": "438bce1a",
   "metadata": {},
   "outputs": [],
   "source": []
  },
  {
   "cell_type": "code",
   "execution_count": 40,
   "id": "4ebc8028",
   "metadata": {},
   "outputs": [
    {
     "name": "stdout",
     "output_type": "stream",
     "text": [
      "<class 're.Match'>\n"
     ]
    }
   ],
   "source": [
    "print(type(emails))"
   ]
  },
  {
   "cell_type": "code",
   "execution_count": 42,
   "id": "7a9314ac",
   "metadata": {},
   "outputs": [
    {
     "name": "stdout",
     "output_type": "stream",
     "text": [
      "Yes this is a question.\n"
     ]
    }
   ],
   "source": []
  },
  {
   "cell_type": "code",
   "execution_count": null,
   "id": "06ee6616",
   "metadata": {},
   "outputs": [],
   "source": []
  }
 ],
 "metadata": {
  "kernelspec": {
   "display_name": "Python 3 (ipykernel)",
   "language": "python",
   "name": "python3"
  },
  "language_info": {
   "codemirror_mode": {
    "name": "ipython",
    "version": 3
   },
   "file_extension": ".py",
   "mimetype": "text/x-python",
   "name": "python",
   "nbconvert_exporter": "python",
   "pygments_lexer": "ipython3",
   "version": "3.9.13"
  }
 },
 "nbformat": 4,
 "nbformat_minor": 5
}
