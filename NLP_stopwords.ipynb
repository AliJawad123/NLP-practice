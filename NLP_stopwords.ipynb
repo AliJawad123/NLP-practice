{
  "nbformat": 4,
  "nbformat_minor": 0,
  "metadata": {
    "colab": {
      "provenance": []
    },
    "kernelspec": {
      "name": "python3",
      "display_name": "Python 3"
    },
    "language_info": {
      "name": "python"
    }
  },
  "cells": [
    {
      "cell_type": "code",
      "execution_count": 1,
      "metadata": {
        "colab": {
          "base_uri": "https://localhost:8080/"
        },
        "id": "N1r9617SPVfH",
        "outputId": "e9cc579a-0d55-41e5-ee18-dfa7e4329f01"
      },
      "outputs": [
        {
          "output_type": "stream",
          "name": "stderr",
          "text": [
            "/usr/local/lib/python3.8/dist-packages/torch/cuda/__init__.py:497: UserWarning: Can't initialize NVML\n",
            "  warnings.warn(\"Can't initialize NVML\")\n"
          ]
        },
        {
          "output_type": "execute_result",
          "data": {
            "text/plain": [
              "326"
            ]
          },
          "metadata": {},
          "execution_count": 1
        }
      ],
      "source": [
        "import spacy\n",
        "\n",
        "from spacy.lang.en.stop_words import STOP_WORDS\n",
        "\n",
        "len(STOP_WORDS)"
      ]
    },
    {
      "cell_type": "code",
      "source": [
        "nlp = spacy.load(\"en_core_web_sm\")\n",
        "\n",
        "doc = nlp(\"We just opened our wings, the flying part is coming soon\")\n",
        "\n",
        "# here the loop is seprating the stop and non stop words\n",
        "\n",
        "stop=[]\n",
        "not_stop=[]\n",
        "for token in doc:\n",
        "    if token.is_stop:\n",
        "        stop.append(token)\n",
        "    else:\n",
        "        not_stop.append(token)"
      ],
      "metadata": {
        "id": "xQPLX6gZPe9S"
      },
      "execution_count": 3,
      "outputs": []
    },
    {
      "cell_type": "code",
      "source": [
        "print(type(nlp))"
      ],
      "metadata": {
        "colab": {
          "base_uri": "https://localhost:8080/"
        },
        "id": "mF3K3I4qRVR8",
        "outputId": "f9a13a61-aca6-4d28-cced-d4e9a4084cb9"
      },
      "execution_count": 11,
      "outputs": [
        {
          "output_type": "stream",
          "name": "stdout",
          "text": [
            "<class 'spacy.lang.en.English'>\n"
          ]
        }
      ]
    },
    {
      "cell_type": "code",
      "source": [
        "doc"
      ],
      "metadata": {
        "colab": {
          "base_uri": "https://localhost:8080/"
        },
        "id": "agcvXCZiR2-m",
        "outputId": "ae40e7ff-6a00-4a85-e6a2-cdf1f5bdae17"
      },
      "execution_count": 12,
      "outputs": [
        {
          "output_type": "execute_result",
          "data": {
            "text/plain": [
              "We just opened our wings, the flying part is coming soon"
            ]
          },
          "metadata": {},
          "execution_count": 12
        }
      ]
    },
    {
      "cell_type": "code",
      "source": [
        "# Printing the stop words\n",
        "\n",
        "stop"
      ],
      "metadata": {
        "colab": {
          "base_uri": "https://localhost:8080/"
        },
        "id": "LttViLSoPr-D",
        "outputId": "b39a2f16-d73e-41c9-9bd4-94e47fe1e3c7"
      },
      "execution_count": 4,
      "outputs": [
        {
          "output_type": "execute_result",
          "data": {
            "text/plain": [
              "[We, just, our, the, part, is]"
            ]
          },
          "metadata": {},
          "execution_count": 4
        }
      ]
    },
    {
      "cell_type": "code",
      "source": [
        "# Non stop words\n",
        "print(\"Length of the stop non stop words : \",len(not_stop),\"\\n\")\n",
        "not_stop"
      ],
      "metadata": {
        "colab": {
          "base_uri": "https://localhost:8080/"
        },
        "id": "ZynxH7BNQoPM",
        "outputId": "4c8e2b2b-5af4-4bc5-9c1a-1ba1efcc7a0b"
      },
      "execution_count": 9,
      "outputs": [
        {
          "output_type": "stream",
          "name": "stdout",
          "text": [
            "Length of the stop non stop words :  6 \n",
            "\n"
          ]
        },
        {
          "output_type": "execute_result",
          "data": {
            "text/plain": [
              "[opened, wings, ,, flying, coming, soon]"
            ]
          },
          "metadata": {},
          "execution_count": 9
        }
      ]
    },
    {
      "cell_type": "markdown",
      "source": [
        "We are preprocessing the data by removing the stop words"
      ],
      "metadata": {
        "id": "JoG_XrkWSZW8"
      }
    },
    {
      "cell_type": "code",
      "source": [
        "def preprocess(text):\n",
        "    doc = nlp(text)\n",
        "    \n",
        "    no_stop_words = [token.text for token in doc if not token.is_stop]\n",
        "    return \" \".join(no_stop_words)    "
      ],
      "metadata": {
        "id": "YcB6imwUQtX3"
      },
      "execution_count": 13,
      "outputs": []
    },
    {
      "cell_type": "code",
      "source": [
        "preprocess(\"Musk wants time to prepare for a trial over his\")"
      ],
      "metadata": {
        "colab": {
          "base_uri": "https://localhost:8080/",
          "height": 36
        },
        "id": "6HM2YddcSkz9",
        "outputId": "c801ef68-a789-4723-8581-28d98391d0c0"
      },
      "execution_count": 14,
      "outputs": [
        {
          "output_type": "execute_result",
          "data": {
            "text/plain": [
              "'Musk wants time prepare trial'"
            ],
            "application/vnd.google.colaboratory.intrinsic+json": {
              "type": "string"
            }
          },
          "metadata": {},
          "execution_count": 14
        }
      ]
    },
    {
      "cell_type": "code",
      "source": [
        "preprocess(\"The other is not other but your divine brother\")"
      ],
      "metadata": {
        "colab": {
          "base_uri": "https://localhost:8080/",
          "height": 36
        },
        "id": "N6sFM4H2Soml",
        "outputId": "1f3f3dac-0e1c-4a91-e99b-b0a3c9e1b019"
      },
      "execution_count": 15,
      "outputs": [
        {
          "output_type": "execute_result",
          "data": {
            "text/plain": [
              "'divine brother'"
            ],
            "application/vnd.google.colaboratory.intrinsic+json": {
              "type": "string"
            }
          },
          "metadata": {},
          "execution_count": 15
        }
      ]
    },
    {
      "cell_type": "code",
      "source": [
        "# Hence we can apply the preprocessing step on the data frame as well.\n",
        "\n",
        "df[\"contents_new\"] = df.contents.apply(preprocess)\n",
        "\n",
        "# Altough in this cell i have not imported the dataframe, but in this code we are\n",
        " # make a new column \" contents_new\" and we preprocess the contents column and store the preprocessed contents into contents_new column"
      ],
      "metadata": {
        "id": "SbIPEgN5S_nx"
      },
      "execution_count": null,
      "outputs": []
    }
  ]
}