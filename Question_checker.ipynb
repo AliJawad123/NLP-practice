{
 "cells": [
  {
   "cell_type": "code",
   "execution_count": 27,
   "id": "64d05d89",
   "metadata": {},
   "outputs": [],
   "source": [
    "import re"
   ]
  },
  {
   "cell_type": "code",
   "execution_count": 40,
   "id": "cf3c9985",
   "metadata": {},
   "outputs": [],
   "source": [
    "text=\"Hello i am Sansa. I am member of HR department. Are you searching for an internship program?Are you student of GIKI?\""
   ]
  },
  {
   "cell_type": "code",
   "execution_count": 41,
   "id": "dcd05719",
   "metadata": {},
   "outputs": [],
   "source": [
    "pattern=\"[A-Z][^!?.]*[?]\""
   ]
  },
  {
   "cell_type": "code",
   "execution_count": 42,
   "id": "f6a2ca22",
   "metadata": {},
   "outputs": [],
   "source": [
    "emails = re.findall(pattern, text)"
   ]
  },
  {
   "cell_type": "code",
   "execution_count": 43,
   "id": "ff1dea39",
   "metadata": {},
   "outputs": [
    {
     "name": "stdout",
     "output_type": "stream",
     "text": [
      "['Are you searching for an internship program?', 'Are you student of GIKI?']\n"
     ]
    }
   ],
   "source": [
    "print(emails)"
   ]
  },
  {
   "cell_type": "code",
   "execution_count": 44,
   "id": "338c1257",
   "metadata": {},
   "outputs": [],
   "source": [
    "emails=re.search(pattern,text)"
   ]
  },
  {
   "cell_type": "code",
   "execution_count": 45,
   "id": "c2e90936",
   "metadata": {},
   "outputs": [
    {
     "name": "stdout",
     "output_type": "stream",
     "text": [
      "Yes this is a question.\n"
     ]
    }
   ],
   "source": [
    "if emails:\n",
    "    print(\"Yes this is a question.\")\n",
    "else:\n",
    "    print(\"No this is not a question.\")"
   ]
  },
  {
   "cell_type": "code",
   "execution_count": null,
   "id": "87670068",
   "metadata": {},
   "outputs": [],
   "source": []
  }
 ],
 "metadata": {
  "kernelspec": {
   "display_name": "Python 3 (ipykernel)",
   "language": "python",
   "name": "python3"
  },
  "language_info": {
   "codemirror_mode": {
    "name": "ipython",
    "version": 3
   },
   "file_extension": ".py",
   "mimetype": "text/x-python",
   "name": "python",
   "nbconvert_exporter": "python",
   "pygments_lexer": "ipython3",
   "version": "3.9.13"
  }
 },
 "nbformat": 4,
 "nbformat_minor": 5
}
